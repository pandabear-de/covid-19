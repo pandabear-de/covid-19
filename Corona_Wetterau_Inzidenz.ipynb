{
 "cells": [
  {
   "cell_type": "markdown",
   "metadata": {},
   "source": [
    "# Covid-19 - Auswertung RKI Daten\n",
    "\n",
    "Ziel ist es die Inzidenz aus den Roh-Daten des RKI mal selbst zu rechnen \n",
    "\n",
    "Work in progress! - Errechnete Inzedenzen passen zu denen des RKI Dashboards\n",
    "\n",
    "Stand: 22.12.2020"
   ]
  },
  {
   "cell_type": "code",
   "execution_count": null,
   "metadata": {},
   "outputs": [],
   "source": [
    "'''\n",
    "source: https://www.arcgis.com/home/item.html?id=f10774f1c63e40168479a1feb6c7ca74\n",
    "source: Einwohner: https://de.wikipedia.org/wiki/Wetteraukreis\n",
    "'''"
   ]
  },
  {
   "cell_type": "code",
   "execution_count": 1,
   "metadata": {
    "ExecuteTime": {
     "end_time": "2020-12-21T16:30:13.871005Z",
     "start_time": "2020-12-21T16:30:12.200800Z"
    }
   },
   "outputs": [],
   "source": [
    "import pandas as pd\n",
    "import matplotlib.pyplot as plt\n",
    "import numpy as np\n",
    "from datetime import datetime\n",
    "\n",
    "%matplotlib inline"
   ]
  },
  {
   "cell_type": "code",
   "execution_count": 2,
   "metadata": {
    "ExecuteTime": {
     "end_time": "2020-12-21T16:30:13.913293Z",
     "start_time": "2020-12-21T16:30:13.908920Z"
    }
   },
   "outputs": [],
   "source": [
    "#pd.set_option('display.max_columns', None)\n",
    "#pd.set_option('display.max_rows', None)"
   ]
  },
  {
   "cell_type": "code",
   "execution_count": 3,
   "metadata": {
    "ExecuteTime": {
     "end_time": "2020-12-21T16:30:13.935912Z",
     "start_time": "2020-12-21T16:30:13.932087Z"
    },
    "code_folding": []
   },
   "outputs": [],
   "source": [
    "#url=\"https://www.arcgis.com/sharing/rest/content/items/f10774f1c63e40168479a1feb6c7ca74/data\"\n",
    "#s=requests.get(url).content\n",
    "#rki=pd.read_csv(s)"
   ]
  },
  {
   "cell_type": "code",
   "execution_count": 4,
   "metadata": {
    "ExecuteTime": {
     "end_time": "2020-12-21T16:30:13.972933Z",
     "start_time": "2020-12-21T16:30:13.962177Z"
    }
   },
   "outputs": [],
   "source": [
    "#rki = pd.read_csv('RKI_COVID19.csv')"
   ]
  },
  {
   "cell_type": "code",
   "execution_count": 89,
   "metadata": {
    "ExecuteTime": {
     "end_time": "2020-12-22T09:10:38.127674Z",
     "start_time": "2020-12-22T09:10:27.696165Z"
    }
   },
   "outputs": [],
   "source": [
    "rki = pd.read_csv('https://opendata.arcgis.com/datasets/dd4580c810204019a7b8eb3e0b329dd6_0.csv')"
   ]
  },
  {
   "cell_type": "code",
   "execution_count": 90,
   "metadata": {
    "ExecuteTime": {
     "end_time": "2020-12-22T09:10:38.577861Z",
     "start_time": "2020-12-22T09:10:38.573123Z"
    }
   },
   "outputs": [],
   "source": [
    "#Wetteraukreis\n",
    "vLandkreis = 'LK Wetteraukreis'\n",
    "vLK_Einwohner = 308339\n",
    "\n",
    "#Limburg-Weilburg\n",
    "#vLandkreis = 'LK Limburg-Weilburg'\n",
    "#vLK_Einwohner = 171912"
   ]
  },
  {
   "cell_type": "code",
   "execution_count": 91,
   "metadata": {
    "ExecuteTime": {
     "end_time": "2020-12-22T09:10:39.234731Z",
     "start_time": "2020-12-22T09:10:39.017056Z"
    }
   },
   "outputs": [
    {
     "name": "stderr",
     "output_type": "stream",
     "text": [
      "/opt/anaconda3/lib/python3.7/site-packages/ipykernel_launcher.py:1: UserWarning: Boolean Series key will be reindexed to match DataFrame index.\n",
      "  \"\"\"Entry point for launching an IPython kernel.\n"
     ]
    },
    {
     "data": {
      "text/html": [
       "<div>\n",
       "<style scoped>\n",
       "    .dataframe tbody tr th:only-of-type {\n",
       "        vertical-align: middle;\n",
       "    }\n",
       "\n",
       "    .dataframe tbody tr th {\n",
       "        vertical-align: top;\n",
       "    }\n",
       "\n",
       "    .dataframe thead th {\n",
       "        text-align: right;\n",
       "    }\n",
       "</style>\n",
       "<table border=\"1\" class=\"dataframe\">\n",
       "  <thead>\n",
       "    <tr style=\"text-align: right;\">\n",
       "      <th></th>\n",
       "      <th>Bundesland</th>\n",
       "      <th>Landkreis</th>\n",
       "      <th>AnzahlFall</th>\n",
       "      <th>NeuerFall</th>\n",
       "    </tr>\n",
       "    <tr>\n",
       "      <th>Meldedatum</th>\n",
       "      <th></th>\n",
       "      <th></th>\n",
       "      <th></th>\n",
       "      <th></th>\n",
       "    </tr>\n",
       "  </thead>\n",
       "  <tbody>\n",
       "    <tr>\n",
       "      <td>2020-05-14</td>\n",
       "      <td>Hessen</td>\n",
       "      <td>LK Wetteraukreis</td>\n",
       "      <td>1</td>\n",
       "      <td>0</td>\n",
       "    </tr>\n",
       "    <tr>\n",
       "      <td>2020-05-19</td>\n",
       "      <td>Hessen</td>\n",
       "      <td>LK Wetteraukreis</td>\n",
       "      <td>1</td>\n",
       "      <td>0</td>\n",
       "    </tr>\n",
       "    <tr>\n",
       "      <td>2020-05-19</td>\n",
       "      <td>Hessen</td>\n",
       "      <td>LK Wetteraukreis</td>\n",
       "      <td>1</td>\n",
       "      <td>0</td>\n",
       "    </tr>\n",
       "    <tr>\n",
       "      <td>2020-06-07</td>\n",
       "      <td>Hessen</td>\n",
       "      <td>LK Wetteraukreis</td>\n",
       "      <td>1</td>\n",
       "      <td>0</td>\n",
       "    </tr>\n",
       "    <tr>\n",
       "      <td>2020-07-19</td>\n",
       "      <td>Hessen</td>\n",
       "      <td>LK Wetteraukreis</td>\n",
       "      <td>1</td>\n",
       "      <td>0</td>\n",
       "    </tr>\n",
       "    <tr>\n",
       "      <td>...</td>\n",
       "      <td>...</td>\n",
       "      <td>...</td>\n",
       "      <td>...</td>\n",
       "      <td>...</td>\n",
       "    </tr>\n",
       "    <tr>\n",
       "      <td>2020-12-21</td>\n",
       "      <td>Hessen</td>\n",
       "      <td>LK Wetteraukreis</td>\n",
       "      <td>17</td>\n",
       "      <td>1</td>\n",
       "    </tr>\n",
       "    <tr>\n",
       "      <td>2020-11-18</td>\n",
       "      <td>Hessen</td>\n",
       "      <td>LK Wetteraukreis</td>\n",
       "      <td>1</td>\n",
       "      <td>0</td>\n",
       "    </tr>\n",
       "    <tr>\n",
       "      <td>2020-12-13</td>\n",
       "      <td>Hessen</td>\n",
       "      <td>LK Wetteraukreis</td>\n",
       "      <td>1</td>\n",
       "      <td>0</td>\n",
       "    </tr>\n",
       "    <tr>\n",
       "      <td>2020-12-14</td>\n",
       "      <td>Hessen</td>\n",
       "      <td>LK Wetteraukreis</td>\n",
       "      <td>1</td>\n",
       "      <td>0</td>\n",
       "    </tr>\n",
       "    <tr>\n",
       "      <td>2020-12-14</td>\n",
       "      <td>Hessen</td>\n",
       "      <td>LK Wetteraukreis</td>\n",
       "      <td>1</td>\n",
       "      <td>0</td>\n",
       "    </tr>\n",
       "  </tbody>\n",
       "</table>\n",
       "<p>3154 rows × 4 columns</p>\n",
       "</div>"
      ],
      "text/plain": [
       "           Bundesland         Landkreis  AnzahlFall  NeuerFall\n",
       "Meldedatum                                                    \n",
       "2020-05-14     Hessen  LK Wetteraukreis           1          0\n",
       "2020-05-19     Hessen  LK Wetteraukreis           1          0\n",
       "2020-05-19     Hessen  LK Wetteraukreis           1          0\n",
       "2020-06-07     Hessen  LK Wetteraukreis           1          0\n",
       "2020-07-19     Hessen  LK Wetteraukreis           1          0\n",
       "...               ...               ...         ...        ...\n",
       "2020-12-21     Hessen  LK Wetteraukreis          17          1\n",
       "2020-11-18     Hessen  LK Wetteraukreis           1          0\n",
       "2020-12-13     Hessen  LK Wetteraukreis           1          0\n",
       "2020-12-14     Hessen  LK Wetteraukreis           1          0\n",
       "2020-12-14     Hessen  LK Wetteraukreis           1          0\n",
       "\n",
       "[3154 rows x 4 columns]"
      ]
     },
     "execution_count": 91,
     "metadata": {},
     "output_type": "execute_result"
    }
   ],
   "source": [
    "lk = pd.DataFrame(rki[['Meldedatum','Bundesland','Landkreis','AnzahlFall','NeuerFall']])[rki['NeuerFall'].isin([0,1])][rki['Landkreis']==vLandkreis]\n",
    "lk['Meldedatum'] = lk['Meldedatum'].astype('datetime64[ns]')\n",
    "lk['Meldedatum'] = lk['Meldedatum'].dt.date\n",
    "lk.set_index('Meldedatum')\n"
   ]
  },
  {
   "cell_type": "code",
   "execution_count": 92,
   "metadata": {
    "ExecuteTime": {
     "end_time": "2020-12-22T09:10:39.815651Z",
     "start_time": "2020-12-22T09:10:39.802102Z"
    }
   },
   "outputs": [],
   "source": [
    "lk_groupby = lk.groupby(['Meldedatum']).AnzahlFall.sum()\n",
    "lk_groupby = pd.DataFrame(lk_groupby)\n",
    "lk_groupby['rolling_sum'] = lk_groupby['AnzahlFall'].rolling(7).sum()\n",
    "lk_groupby['inzidenzPro100000'] = lk_groupby['rolling_sum'] / vLK_Einwohner * 100000"
   ]
  },
  {
   "cell_type": "code",
   "execution_count": 97,
   "metadata": {
    "ExecuteTime": {
     "end_time": "2020-12-22T09:10:53.791107Z",
     "start_time": "2020-12-22T09:10:53.786678Z"
    }
   },
   "outputs": [],
   "source": [
    "#lk_groupby_old = lk_groupby"
   ]
  },
  {
   "cell_type": "code",
   "execution_count": 98,
   "metadata": {
    "ExecuteTime": {
     "end_time": "2020-12-22T09:10:54.498662Z",
     "start_time": "2020-12-22T09:10:54.473827Z"
    }
   },
   "outputs": [
    {
     "data": {
      "text/html": [
       "<div>\n",
       "<style scoped>\n",
       "    .dataframe tbody tr th:only-of-type {\n",
       "        vertical-align: middle;\n",
       "    }\n",
       "\n",
       "    .dataframe tbody tr th {\n",
       "        vertical-align: top;\n",
       "    }\n",
       "\n",
       "    .dataframe thead th {\n",
       "        text-align: right;\n",
       "    }\n",
       "</style>\n",
       "<table border=\"1\" class=\"dataframe\">\n",
       "  <thead>\n",
       "    <tr style=\"text-align: right;\">\n",
       "      <th></th>\n",
       "      <th>AnzahlFall</th>\n",
       "      <th>rolling_sum</th>\n",
       "      <th>inzidenzPro100000</th>\n",
       "    </tr>\n",
       "    <tr>\n",
       "      <th>Meldedatum</th>\n",
       "      <th></th>\n",
       "      <th></th>\n",
       "      <th></th>\n",
       "    </tr>\n",
       "  </thead>\n",
       "  <tbody>\n",
       "    <tr>\n",
       "      <td>2020-12-17</td>\n",
       "      <td>98</td>\n",
       "      <td>794.0</td>\n",
       "      <td>257.508781</td>\n",
       "    </tr>\n",
       "    <tr>\n",
       "      <td>2020-12-18</td>\n",
       "      <td>143</td>\n",
       "      <td>735.0</td>\n",
       "      <td>238.373997</td>\n",
       "    </tr>\n",
       "    <tr>\n",
       "      <td>2020-12-19</td>\n",
       "      <td>119</td>\n",
       "      <td>789.0</td>\n",
       "      <td>255.887189</td>\n",
       "    </tr>\n",
       "    <tr>\n",
       "      <td>2020-12-20</td>\n",
       "      <td>14</td>\n",
       "      <td>670.0</td>\n",
       "      <td>217.293304</td>\n",
       "    </tr>\n",
       "    <tr>\n",
       "      <td>2020-12-21</td>\n",
       "      <td>47</td>\n",
       "      <td>629.0</td>\n",
       "      <td>203.996251</td>\n",
       "    </tr>\n",
       "  </tbody>\n",
       "</table>\n",
       "</div>"
      ],
      "text/plain": [
       "            AnzahlFall  rolling_sum  inzidenzPro100000\n",
       "Meldedatum                                            \n",
       "2020-12-17          98        794.0         257.508781\n",
       "2020-12-18         143        735.0         238.373997\n",
       "2020-12-19         119        789.0         255.887189\n",
       "2020-12-20          14        670.0         217.293304\n",
       "2020-12-21          47        629.0         203.996251"
      ]
     },
     "execution_count": 98,
     "metadata": {},
     "output_type": "execute_result"
    }
   ],
   "source": [
    "lk_groupby.tail()"
   ]
  },
  {
   "cell_type": "code",
   "execution_count": 99,
   "metadata": {
    "ExecuteTime": {
     "end_time": "2020-12-22T09:11:03.634462Z",
     "start_time": "2020-12-22T09:11:03.618120Z"
    }
   },
   "outputs": [
    {
     "data": {
      "text/html": [
       "<div>\n",
       "<style scoped>\n",
       "    .dataframe tbody tr th:only-of-type {\n",
       "        vertical-align: middle;\n",
       "    }\n",
       "\n",
       "    .dataframe tbody tr th {\n",
       "        vertical-align: top;\n",
       "    }\n",
       "\n",
       "    .dataframe thead th {\n",
       "        text-align: right;\n",
       "    }\n",
       "</style>\n",
       "<table border=\"1\" class=\"dataframe\">\n",
       "  <thead>\n",
       "    <tr style=\"text-align: right;\">\n",
       "      <th></th>\n",
       "      <th>AnzahlFall</th>\n",
       "      <th>rolling_sum</th>\n",
       "      <th>inzidenzPro100000</th>\n",
       "    </tr>\n",
       "    <tr>\n",
       "      <th>Meldedatum</th>\n",
       "      <th></th>\n",
       "      <th></th>\n",
       "      <th></th>\n",
       "    </tr>\n",
       "  </thead>\n",
       "  <tbody>\n",
       "    <tr>\n",
       "      <td>2020-11-22</td>\n",
       "      <td>23</td>\n",
       "      <td>495.0</td>\n",
       "      <td>160.537590</td>\n",
       "    </tr>\n",
       "    <tr>\n",
       "      <td>2020-11-23</td>\n",
       "      <td>37</td>\n",
       "      <td>479.0</td>\n",
       "      <td>155.348496</td>\n",
       "    </tr>\n",
       "    <tr>\n",
       "      <td>2020-11-24</td>\n",
       "      <td>54</td>\n",
       "      <td>428.0</td>\n",
       "      <td>138.808260</td>\n",
       "    </tr>\n",
       "    <tr>\n",
       "      <td>2020-11-25</td>\n",
       "      <td>100</td>\n",
       "      <td>427.0</td>\n",
       "      <td>138.483941</td>\n",
       "    </tr>\n",
       "    <tr>\n",
       "      <td>2020-11-26</td>\n",
       "      <td>79</td>\n",
       "      <td>417.0</td>\n",
       "      <td>135.240758</td>\n",
       "    </tr>\n",
       "    <tr>\n",
       "      <td>2020-11-27</td>\n",
       "      <td>94</td>\n",
       "      <td>437.0</td>\n",
       "      <td>141.727125</td>\n",
       "    </tr>\n",
       "    <tr>\n",
       "      <td>2020-11-28</td>\n",
       "      <td>55</td>\n",
       "      <td>442.0</td>\n",
       "      <td>143.348717</td>\n",
       "    </tr>\n",
       "    <tr>\n",
       "      <td>2020-11-29</td>\n",
       "      <td>20</td>\n",
       "      <td>439.0</td>\n",
       "      <td>142.375762</td>\n",
       "    </tr>\n",
       "    <tr>\n",
       "      <td>2020-11-30</td>\n",
       "      <td>37</td>\n",
       "      <td>439.0</td>\n",
       "      <td>142.375762</td>\n",
       "    </tr>\n",
       "    <tr>\n",
       "      <td>2020-12-01</td>\n",
       "      <td>90</td>\n",
       "      <td>475.0</td>\n",
       "      <td>154.051223</td>\n",
       "    </tr>\n",
       "    <tr>\n",
       "      <td>2020-12-02</td>\n",
       "      <td>81</td>\n",
       "      <td>456.0</td>\n",
       "      <td>147.889174</td>\n",
       "    </tr>\n",
       "    <tr>\n",
       "      <td>2020-12-03</td>\n",
       "      <td>113</td>\n",
       "      <td>490.0</td>\n",
       "      <td>158.915998</td>\n",
       "    </tr>\n",
       "    <tr>\n",
       "      <td>2020-12-04</td>\n",
       "      <td>65</td>\n",
       "      <td>461.0</td>\n",
       "      <td>149.510766</td>\n",
       "    </tr>\n",
       "    <tr>\n",
       "      <td>2020-12-05</td>\n",
       "      <td>37</td>\n",
       "      <td>443.0</td>\n",
       "      <td>143.673035</td>\n",
       "    </tr>\n",
       "    <tr>\n",
       "      <td>2020-12-06</td>\n",
       "      <td>31</td>\n",
       "      <td>454.0</td>\n",
       "      <td>147.240537</td>\n",
       "    </tr>\n",
       "    <tr>\n",
       "      <td>2020-12-07</td>\n",
       "      <td>179</td>\n",
       "      <td>596.0</td>\n",
       "      <td>193.293745</td>\n",
       "    </tr>\n",
       "    <tr>\n",
       "      <td>2020-12-08</td>\n",
       "      <td>136</td>\n",
       "      <td>642.0</td>\n",
       "      <td>208.212390</td>\n",
       "    </tr>\n",
       "    <tr>\n",
       "      <td>2020-12-09</td>\n",
       "      <td>94</td>\n",
       "      <td>655.0</td>\n",
       "      <td>212.428528</td>\n",
       "    </tr>\n",
       "    <tr>\n",
       "      <td>2020-12-10</td>\n",
       "      <td>88</td>\n",
       "      <td>630.0</td>\n",
       "      <td>204.320569</td>\n",
       "    </tr>\n",
       "    <tr>\n",
       "      <td>2020-12-11</td>\n",
       "      <td>202</td>\n",
       "      <td>767.0</td>\n",
       "      <td>248.752185</td>\n",
       "    </tr>\n",
       "    <tr>\n",
       "      <td>2020-12-12</td>\n",
       "      <td>65</td>\n",
       "      <td>795.0</td>\n",
       "      <td>257.833099</td>\n",
       "    </tr>\n",
       "    <tr>\n",
       "      <td>2020-12-13</td>\n",
       "      <td>133</td>\n",
       "      <td>897.0</td>\n",
       "      <td>290.913572</td>\n",
       "    </tr>\n",
       "    <tr>\n",
       "      <td>2020-12-14</td>\n",
       "      <td>88</td>\n",
       "      <td>806.0</td>\n",
       "      <td>261.400601</td>\n",
       "    </tr>\n",
       "    <tr>\n",
       "      <td>2020-12-15</td>\n",
       "      <td>95</td>\n",
       "      <td>765.0</td>\n",
       "      <td>248.103548</td>\n",
       "    </tr>\n",
       "    <tr>\n",
       "      <td>2020-12-16</td>\n",
       "      <td>113</td>\n",
       "      <td>784.0</td>\n",
       "      <td>254.265597</td>\n",
       "    </tr>\n",
       "    <tr>\n",
       "      <td>2020-12-17</td>\n",
       "      <td>98</td>\n",
       "      <td>794.0</td>\n",
       "      <td>257.508781</td>\n",
       "    </tr>\n",
       "    <tr>\n",
       "      <td>2020-12-18</td>\n",
       "      <td>143</td>\n",
       "      <td>735.0</td>\n",
       "      <td>238.373997</td>\n",
       "    </tr>\n",
       "    <tr>\n",
       "      <td>2020-12-19</td>\n",
       "      <td>119</td>\n",
       "      <td>789.0</td>\n",
       "      <td>255.887189</td>\n",
       "    </tr>\n",
       "    <tr>\n",
       "      <td>2020-12-20</td>\n",
       "      <td>14</td>\n",
       "      <td>670.0</td>\n",
       "      <td>217.293304</td>\n",
       "    </tr>\n",
       "    <tr>\n",
       "      <td>2020-12-21</td>\n",
       "      <td>47</td>\n",
       "      <td>629.0</td>\n",
       "      <td>203.996251</td>\n",
       "    </tr>\n",
       "  </tbody>\n",
       "</table>\n",
       "</div>"
      ],
      "text/plain": [
       "            AnzahlFall  rolling_sum  inzidenzPro100000\n",
       "Meldedatum                                            \n",
       "2020-11-22          23        495.0         160.537590\n",
       "2020-11-23          37        479.0         155.348496\n",
       "2020-11-24          54        428.0         138.808260\n",
       "2020-11-25         100        427.0         138.483941\n",
       "2020-11-26          79        417.0         135.240758\n",
       "2020-11-27          94        437.0         141.727125\n",
       "2020-11-28          55        442.0         143.348717\n",
       "2020-11-29          20        439.0         142.375762\n",
       "2020-11-30          37        439.0         142.375762\n",
       "2020-12-01          90        475.0         154.051223\n",
       "2020-12-02          81        456.0         147.889174\n",
       "2020-12-03         113        490.0         158.915998\n",
       "2020-12-04          65        461.0         149.510766\n",
       "2020-12-05          37        443.0         143.673035\n",
       "2020-12-06          31        454.0         147.240537\n",
       "2020-12-07         179        596.0         193.293745\n",
       "2020-12-08         136        642.0         208.212390\n",
       "2020-12-09          94        655.0         212.428528\n",
       "2020-12-10          88        630.0         204.320569\n",
       "2020-12-11         202        767.0         248.752185\n",
       "2020-12-12          65        795.0         257.833099\n",
       "2020-12-13         133        897.0         290.913572\n",
       "2020-12-14          88        806.0         261.400601\n",
       "2020-12-15          95        765.0         248.103548\n",
       "2020-12-16         113        784.0         254.265597\n",
       "2020-12-17          98        794.0         257.508781\n",
       "2020-12-18         143        735.0         238.373997\n",
       "2020-12-19         119        789.0         255.887189\n",
       "2020-12-20          14        670.0         217.293304\n",
       "2020-12-21          47        629.0         203.996251"
      ]
     },
     "execution_count": 99,
     "metadata": {},
     "output_type": "execute_result"
    }
   ],
   "source": [
    "lk_groupby_old.tail(30)"
   ]
  },
  {
   "cell_type": "code",
   "execution_count": 100,
   "metadata": {
    "ExecuteTime": {
     "end_time": "2020-12-22T09:11:12.376216Z",
     "start_time": "2020-12-22T09:11:08.038895Z"
    }
   },
   "outputs": [
    {
     "data": {
      "image/png": "[encoded data removed]",
      "text/plain": [
       "<Figure size 3600x720 with 1 Axes>"
      ]
     },
     "metadata": {
      "needs_background": "light"
     },
     "output_type": "display_data"
    }
   ],
   "source": [
    "thePlotGADaten = lk_groupby['inzidenzPro100000'].plot(kind=\"bar\",figsize=(50,10), title=f'Covid19 - {vLandkreis} - RKI Datenstand: ' + rki['Datenstand'][0][0:10])\n",
    "#for x,y in zip('inzidenzPro100000','inzidenzPro100000'):\n",
    "\n",
    "    #label = \"{:.2f}\".format(y)\n",
    "#    label = y\n",
    "\n",
    "#    plt.annotate(label, # this is the text\n",
    "#                 (x,y), # this is the point to label\n",
    "#                 textcoords=\"offset points\", # how to position the text\n",
    "#                 xytext=(0,10), # distance from text to points (x,y)\n",
    "#                 ha='center') # horizontal alignment can be left, right or center\n",
    "#\n",
    "#plt.show()"
   ]
  },
  {
   "cell_type": "code",
   "execution_count": null,
   "metadata": {},
   "outputs": [],
   "source": []
  },
  {
   "cell_type": "code",
   "execution_count": null,
   "metadata": {},
   "outputs": [],
   "source": []
  },
  {
   "cell_type": "code",
   "execution_count": 398,
   "metadata": {
    "ExecuteTime": {
     "end_time": "2020-12-20T00:54:20.922881Z",
     "start_time": "2020-12-20T00:54:20.712676Z"
    }
   },
   "outputs": [
    {
     "data": {
      "image/png": "[encoded data removed]",
      "text/plain": [
       "<Figure size 432x288 with 1 Axes>"
      ]
     },
     "metadata": {
      "needs_background": "light"
     },
     "output_type": "display_data"
    }
   ],
   "source": [
    "#TESTING!!!\n",
    "\n",
    "plt.clf()\n",
    "\n",
    "# using some dummy data for this example\n",
    "xs = np.arange(0,10,1)\n",
    "ys = np.random.normal(loc=3, scale=0.4, size=10)\n",
    "\n",
    "plt.bar(xs,ys)\n",
    "\n",
    "# zip joins x and y coordinates in pairs\n",
    "for x,y in zip(xs,ys):\n",
    "\n",
    "    label = \"{:.2f}\".format(y)\n",
    "\n",
    "    plt.annotate(label, # this is the text\n",
    "                 (x,y), # this is the point to label\n",
    "                 textcoords=\"offset points\", # how to position the text\n",
    "                 xytext=(0,10), # distance from text to points (x,y)\n",
    "                 ha='center') # horizontal alignment can be left, right or center\n",
    "\n",
    "plt.show()"
   ]
  },
  {
   "cell_type": "code",
   "execution_count": null,
   "metadata": {},
   "outputs": [],
   "source": []
  },
  {
   "cell_type": "code",
   "execution_count": 512,
   "metadata": {
    "ExecuteTime": {
     "end_time": "2020-12-20T01:57:25.822439Z",
     "start_time": "2020-12-20T01:57:24.636547Z"
    }
   },
   "outputs": [],
   "source": [
    "#rki = rki[rki.Geschlecht.str.contains(\"unbekannt\") == False]\n",
    "#rki = rki[rki.Altersgruppe.str.contains(\"unbekannt\") == False]"
   ]
  },
  {
   "cell_type": "code",
   "execution_count": 101,
   "metadata": {
    "ExecuteTime": {
     "end_time": "2020-12-22T09:20:39.022335Z",
     "start_time": "2020-12-22T09:20:38.947645Z"
    }
   },
   "outputs": [
    {
     "data": {
      "text/html": [
       "<div>\n",
       "<style scoped>\n",
       "    .dataframe tbody tr th:only-of-type {\n",
       "        vertical-align: middle;\n",
       "    }\n",
       "\n",
       "    .dataframe tbody tr th {\n",
       "        vertical-align: top;\n",
       "    }\n",
       "\n",
       "    .dataframe thead th {\n",
       "        text-align: right;\n",
       "    }\n",
       "</style>\n",
       "<table border=\"1\" class=\"dataframe\">\n",
       "  <thead>\n",
       "    <tr style=\"text-align: right;\">\n",
       "      <th></th>\n",
       "      <th>Bundesland</th>\n",
       "      <th>Geschlecht</th>\n",
       "      <th>Altersgruppe</th>\n",
       "      <th>AnzahlFall</th>\n",
       "      <th>AnzahlTodesfall</th>\n",
       "    </tr>\n",
       "  </thead>\n",
       "  <tbody>\n",
       "    <tr>\n",
       "      <td>0</td>\n",
       "      <td>Schleswig-Holstein</td>\n",
       "      <td>M</td>\n",
       "      <td>A00-A04</td>\n",
       "      <td>1</td>\n",
       "      <td>0</td>\n",
       "    </tr>\n",
       "    <tr>\n",
       "      <td>1</td>\n",
       "      <td>Schleswig-Holstein</td>\n",
       "      <td>M</td>\n",
       "      <td>A00-A04</td>\n",
       "      <td>1</td>\n",
       "      <td>0</td>\n",
       "    </tr>\n",
       "    <tr>\n",
       "      <td>2</td>\n",
       "      <td>Schleswig-Holstein</td>\n",
       "      <td>M</td>\n",
       "      <td>A00-A04</td>\n",
       "      <td>1</td>\n",
       "      <td>0</td>\n",
       "    </tr>\n",
       "    <tr>\n",
       "      <td>3</td>\n",
       "      <td>Schleswig-Holstein</td>\n",
       "      <td>M</td>\n",
       "      <td>A00-A04</td>\n",
       "      <td>1</td>\n",
       "      <td>0</td>\n",
       "    </tr>\n",
       "    <tr>\n",
       "      <td>4</td>\n",
       "      <td>Schleswig-Holstein</td>\n",
       "      <td>M</td>\n",
       "      <td>A00-A04</td>\n",
       "      <td>1</td>\n",
       "      <td>0</td>\n",
       "    </tr>\n",
       "    <tr>\n",
       "      <td>...</td>\n",
       "      <td>...</td>\n",
       "      <td>...</td>\n",
       "      <td>...</td>\n",
       "      <td>...</td>\n",
       "      <td>...</td>\n",
       "    </tr>\n",
       "    <tr>\n",
       "      <td>790936</td>\n",
       "      <td>Thüringen</td>\n",
       "      <td>W</td>\n",
       "      <td>A80+</td>\n",
       "      <td>1</td>\n",
       "      <td>0</td>\n",
       "    </tr>\n",
       "    <tr>\n",
       "      <td>790937</td>\n",
       "      <td>Thüringen</td>\n",
       "      <td>W</td>\n",
       "      <td>A80+</td>\n",
       "      <td>33</td>\n",
       "      <td>0</td>\n",
       "    </tr>\n",
       "    <tr>\n",
       "      <td>790938</td>\n",
       "      <td>Thüringen</td>\n",
       "      <td>W</td>\n",
       "      <td>A80+</td>\n",
       "      <td>15</td>\n",
       "      <td>0</td>\n",
       "    </tr>\n",
       "    <tr>\n",
       "      <td>790939</td>\n",
       "      <td>Thüringen</td>\n",
       "      <td>W</td>\n",
       "      <td>A80+</td>\n",
       "      <td>5</td>\n",
       "      <td>0</td>\n",
       "    </tr>\n",
       "    <tr>\n",
       "      <td>790940</td>\n",
       "      <td>Thüringen</td>\n",
       "      <td>W</td>\n",
       "      <td>A80+</td>\n",
       "      <td>2</td>\n",
       "      <td>0</td>\n",
       "    </tr>\n",
       "  </tbody>\n",
       "</table>\n",
       "<p>790941 rows × 5 columns</p>\n",
       "</div>"
      ],
      "text/plain": [
       "                Bundesland Geschlecht Altersgruppe  AnzahlFall  \\\n",
       "0       Schleswig-Holstein          M      A00-A04           1   \n",
       "1       Schleswig-Holstein          M      A00-A04           1   \n",
       "2       Schleswig-Holstein          M      A00-A04           1   \n",
       "3       Schleswig-Holstein          M      A00-A04           1   \n",
       "4       Schleswig-Holstein          M      A00-A04           1   \n",
       "...                    ...        ...          ...         ...   \n",
       "790936           Thüringen          W         A80+           1   \n",
       "790937           Thüringen          W         A80+          33   \n",
       "790938           Thüringen          W         A80+          15   \n",
       "790939           Thüringen          W         A80+           5   \n",
       "790940           Thüringen          W         A80+           2   \n",
       "\n",
       "        AnzahlTodesfall  \n",
       "0                     0  \n",
       "1                     0  \n",
       "2                     0  \n",
       "3                     0  \n",
       "4                     0  \n",
       "...                 ...  \n",
       "790936                0  \n",
       "790937                0  \n",
       "790938                0  \n",
       "790939                0  \n",
       "790940                0  \n",
       "\n",
       "[790941 rows x 5 columns]"
      ]
     },
     "execution_count": 101,
     "metadata": {},
     "output_type": "execute_result"
    }
   ],
   "source": [
    "rki[['Bundesland','Geschlecht','Altersgruppe','AnzahlFall','AnzahlTodesfall']]"
   ]
  },
  {
   "cell_type": "code",
   "execution_count": 81,
   "metadata": {
    "ExecuteTime": {
     "end_time": "2020-12-22T08:58:57.466421Z",
     "start_time": "2020-12-22T08:58:57.364052Z"
    }
   },
   "outputs": [],
   "source": [
    "GADaten = rki[['Bundesland','Geschlecht','Altersgruppe','AnzahlFall','AnzahlTodesfall']][rki['Landkreis']=='LK Wetteraukreis'].groupby(['Geschlecht','Altersgruppe']).sum().sort_values(by=[\"Altersgruppe\"])"
   ]
  },
  {
   "cell_type": "code",
   "execution_count": 82,
   "metadata": {
    "ExecuteTime": {
     "end_time": "2020-12-22T08:58:58.480005Z",
     "start_time": "2020-12-22T08:58:58.466494Z"
    }
   },
   "outputs": [
    {
     "data": {
      "text/html": [
       "<div>\n",
       "<style scoped>\n",
       "    .dataframe tbody tr th:only-of-type {\n",
       "        vertical-align: middle;\n",
       "    }\n",
       "\n",
       "    .dataframe tbody tr th {\n",
       "        vertical-align: top;\n",
       "    }\n",
       "\n",
       "    .dataframe thead th {\n",
       "        text-align: right;\n",
       "    }\n",
       "</style>\n",
       "<table border=\"1\" class=\"dataframe\">\n",
       "  <thead>\n",
       "    <tr style=\"text-align: right;\">\n",
       "      <th></th>\n",
       "      <th></th>\n",
       "      <th>AnzahlFall</th>\n",
       "      <th>AnzahlTodesfall</th>\n",
       "    </tr>\n",
       "    <tr>\n",
       "      <th>Geschlecht</th>\n",
       "      <th>Altersgruppe</th>\n",
       "      <th></th>\n",
       "      <th></th>\n",
       "    </tr>\n",
       "  </thead>\n",
       "  <tbody>\n",
       "    <tr>\n",
       "      <td>M</td>\n",
       "      <td>A00-A04</td>\n",
       "      <td>34</td>\n",
       "      <td>0</td>\n",
       "    </tr>\n",
       "    <tr>\n",
       "      <td>W</td>\n",
       "      <td>A00-A04</td>\n",
       "      <td>35</td>\n",
       "      <td>0</td>\n",
       "    </tr>\n",
       "    <tr>\n",
       "      <td>unbekannt</td>\n",
       "      <td>A05-A14</td>\n",
       "      <td>2</td>\n",
       "      <td>0</td>\n",
       "    </tr>\n",
       "    <tr>\n",
       "      <td>W</td>\n",
       "      <td>A05-A14</td>\n",
       "      <td>106</td>\n",
       "      <td>0</td>\n",
       "    </tr>\n",
       "    <tr>\n",
       "      <td rowspan=\"2\" valign=\"top\">M</td>\n",
       "      <td>A05-A14</td>\n",
       "      <td>137</td>\n",
       "      <td>0</td>\n",
       "    </tr>\n",
       "    <tr>\n",
       "      <td>A15-A34</td>\n",
       "      <td>713</td>\n",
       "      <td>0</td>\n",
       "    </tr>\n",
       "    <tr>\n",
       "      <td>W</td>\n",
       "      <td>A15-A34</td>\n",
       "      <td>729</td>\n",
       "      <td>0</td>\n",
       "    </tr>\n",
       "    <tr>\n",
       "      <td rowspan=\"2\" valign=\"top\">unbekannt</td>\n",
       "      <td>A15-A34</td>\n",
       "      <td>3</td>\n",
       "      <td>0</td>\n",
       "    </tr>\n",
       "    <tr>\n",
       "      <td>A35-A59</td>\n",
       "      <td>2</td>\n",
       "      <td>0</td>\n",
       "    </tr>\n",
       "    <tr>\n",
       "      <td>W</td>\n",
       "      <td>A35-A59</td>\n",
       "      <td>1023</td>\n",
       "      <td>1</td>\n",
       "    </tr>\n",
       "    <tr>\n",
       "      <td rowspan=\"2\" valign=\"top\">M</td>\n",
       "      <td>A35-A59</td>\n",
       "      <td>924</td>\n",
       "      <td>3</td>\n",
       "    </tr>\n",
       "    <tr>\n",
       "      <td>A60-A79</td>\n",
       "      <td>390</td>\n",
       "      <td>20</td>\n",
       "    </tr>\n",
       "    <tr>\n",
       "      <td>W</td>\n",
       "      <td>A60-A79</td>\n",
       "      <td>432</td>\n",
       "      <td>9</td>\n",
       "    </tr>\n",
       "    <tr>\n",
       "      <td>M</td>\n",
       "      <td>A80+</td>\n",
       "      <td>224</td>\n",
       "      <td>39</td>\n",
       "    </tr>\n",
       "    <tr>\n",
       "      <td>W</td>\n",
       "      <td>A80+</td>\n",
       "      <td>489</td>\n",
       "      <td>42</td>\n",
       "    </tr>\n",
       "    <tr>\n",
       "      <td>unbekannt</td>\n",
       "      <td>A80+</td>\n",
       "      <td>1</td>\n",
       "      <td>0</td>\n",
       "    </tr>\n",
       "    <tr>\n",
       "      <td>M</td>\n",
       "      <td>unbekannt</td>\n",
       "      <td>1</td>\n",
       "      <td>0</td>\n",
       "    </tr>\n",
       "    <tr>\n",
       "      <td>W</td>\n",
       "      <td>unbekannt</td>\n",
       "      <td>3</td>\n",
       "      <td>0</td>\n",
       "    </tr>\n",
       "  </tbody>\n",
       "</table>\n",
       "</div>"
      ],
      "text/plain": [
       "                         AnzahlFall  AnzahlTodesfall\n",
       "Geschlecht Altersgruppe                             \n",
       "M          A00-A04               34                0\n",
       "W          A00-A04               35                0\n",
       "unbekannt  A05-A14                2                0\n",
       "W          A05-A14              106                0\n",
       "M          A05-A14              137                0\n",
       "           A15-A34              713                0\n",
       "W          A15-A34              729                0\n",
       "unbekannt  A15-A34                3                0\n",
       "           A35-A59                2                0\n",
       "W          A35-A59             1023                1\n",
       "M          A35-A59              924                3\n",
       "           A60-A79              390               20\n",
       "W          A60-A79              432                9\n",
       "M          A80+                 224               39\n",
       "W          A80+                 489               42\n",
       "unbekannt  A80+                   1                0\n",
       "M          unbekannt              1                0\n",
       "W          unbekannt              3                0"
      ]
     },
     "execution_count": 82,
     "metadata": {},
     "output_type": "execute_result"
    }
   ],
   "source": [
    "GADaten"
   ]
  },
  {
   "cell_type": "code",
   "execution_count": 83,
   "metadata": {
    "ExecuteTime": {
     "end_time": "2020-12-22T08:59:04.340896Z",
     "start_time": "2020-12-22T08:59:03.347653Z"
    }
   },
   "outputs": [
    {
     "data": {
      "image/png": "[encoded data removed]",
      "text/plain": [
       "<Figure size 1440x720 with 2 Axes>"
      ]
     },
     "metadata": {
      "needs_background": "light"
     },
     "output_type": "display_data"
    }
   ],
   "source": [
    "#thePlotGADaten = GADaten.plot(kind=\"bar\",figsize=(20,10), title='Covid19 - LK Wetterau - RKI Datenstand: ' + rki['Datenstand'][0][0:10])\n",
    "thePlotGADaten = GADaten.plot(kind=\"bar\",secondary_y=\"AnzahlTodesfall\",figsize=(20,10), title=f'Covid19 - {vLandkreis} - RKI Datenstand: ' + rki['Datenstand'][0][0:10])\n",
    "\n",
    "thePlotGADaten.get_figure().savefig('geschlecht-altersgruppe.png',dpi=200,pad_inches=5)"
   ]
  },
  {
   "cell_type": "code",
   "execution_count": 84,
   "metadata": {
    "ExecuteTime": {
     "end_time": "2020-12-22T08:59:35.295953Z",
     "start_time": "2020-12-22T08:59:35.289035Z"
    }
   },
   "outputs": [
    {
     "data": {
      "text/plain": [
       "5248"
      ]
     },
     "execution_count": 84,
     "metadata": {},
     "output_type": "execute_result"
    }
   ],
   "source": [
    "lk['AnzahlFall'].sum()"
   ]
  },
  {
   "cell_type": "code",
   "execution_count": null,
   "metadata": {},
   "outputs": [],
   "source": []
  }
 ],
 "metadata": {
  "kernelspec": {
   "display_name": "Python 3.7.4 64-bit ('anaconda3': virtualenv)",
   "language": "python",
   "name": "python37464bitanaconda3virtualenv2278f5ece7264893a086549837fbbdd9"
  },
  "language_info": {
   "codemirror_mode": {
    "name": "ipython",
    "version": 3
   },
   "file_extension": ".py",
   "mimetype": "text/x-python",
   "name": "python",
   "nbconvert_exporter": "python",
   "pygments_lexer": "ipython3",
   "version": "3.7.4"
  },
  "toc": {
   "base_numbering": 1,
   "nav_menu": {},
   "number_sections": true,
   "sideBar": true,
   "skip_h1_title": false,
   "title_cell": "Table of Contents",
   "title_sidebar": "Contents",
   "toc_cell": false,
   "toc_position": {},
   "toc_section_display": true,
   "toc_window_display": false
  },
  "varInspector": {
   "cols": {
    "lenName": 16,
    "lenType": 16,
    "lenVar": 40
   },
   "kernels_config": {
    "python": {
     "delete_cmd_postfix": "",
     "delete_cmd_prefix": "del ",
     "library": "var_list.py",
     "varRefreshCmd": "print(var_dic_list())"
    },
    "r": {
     "delete_cmd_postfix": ") ",
     "delete_cmd_prefix": "rm(",
     "library": "var_list.r",
     "varRefreshCmd": "cat(var_dic_list()) "
    }
   },
   "types_to_exclude": [
    "module",
    "function",
    "builtin_function_or_method",
    "instance",
    "_Feature"
   ],
   "window_display": false
  }
 },
 "nbformat": 4,
 "nbformat_minor": 2
}
