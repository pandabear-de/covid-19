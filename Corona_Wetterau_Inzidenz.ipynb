{
 "cells": [
  {
   "cell_type": "code",
   "execution_count": null,
   "metadata": {},
   "outputs": [],
   "source": []
  },
  {
   "cell_type": "code",
   "execution_count": null,
   "metadata": {},
   "outputs": [],
   "source": [
    "'''\n",
    "source: https://www.arcgis.com/home/item.html?id=f10774f1c63e40168479a1feb6c7ca74\n",
    "source: Einwohner: https://de.wikipedia.org/wiki/Wetteraukreis\n",
    "'''"
   ]
  },
  {
   "cell_type": "code",
   "execution_count": 429,
   "metadata": {
    "ExecuteTime": {
     "end_time": "2020-12-20T01:11:49.756839Z",
     "start_time": "2020-12-20T01:11:49.685275Z"
    }
   },
   "outputs": [],
   "source": [
    "import pandas as pd\n",
    "import matplotlib.pyplot as plt\n",
    "import numpy as np\n",
    "from datetime import datetime\n",
    "\n",
    "%matplotlib inline"
   ]
  },
  {
   "cell_type": "code",
   "execution_count": null,
   "metadata": {},
   "outputs": [],
   "source": [
    "#pd.set_option('display.max_columns', None)\n",
    "#pd.set_option('display.max_rows', None)"
   ]
  },
  {
   "cell_type": "code",
   "execution_count": 248,
   "metadata": {
    "ExecuteTime": {
     "end_time": "2020-12-19T22:54:58.874849Z",
     "start_time": "2020-12-19T22:54:58.859714Z"
    },
    "code_folding": []
   },
   "outputs": [],
   "source": [
    "#url=\"https://www.arcgis.com/sharing/rest/content/items/f10774f1c63e40168479a1feb6c7ca74/data\"\n",
    "#s=requests.get(url).content\n",
    "#rki=pd.read_csv(s)"
   ]
  },
  {
   "cell_type": "code",
   "execution_count": 164,
   "metadata": {
    "ExecuteTime": {
     "end_time": "2020-12-17T23:39:50.961488Z",
     "start_time": "2020-12-17T23:39:48.914036Z"
    }
   },
   "outputs": [],
   "source": [
    "#rki = pd.read_csv('RKI_COVID19.csv')"
   ]
  },
  {
   "cell_type": "code",
   "execution_count": 450,
   "metadata": {
    "ExecuteTime": {
     "end_time": "2020-12-20T01:24:05.400996Z",
     "start_time": "2020-12-20T01:23:39.347505Z"
    }
   },
   "outputs": [],
   "source": [
    "rki = pd.read_csv('https://opendata.arcgis.com/datasets/dd4580c810204019a7b8eb3e0b329dd6_0.csv')"
   ]
  },
  {
   "cell_type": "code",
   "execution_count": 451,
   "metadata": {
    "ExecuteTime": {
     "end_time": "2020-12-20T01:24:27.399915Z",
     "start_time": "2020-12-20T01:24:27.318063Z"
    }
   },
   "outputs": [
    {
     "data": {
      "text/html": [
       "<div>\n",
       "<style scoped>\n",
       "    .dataframe tbody tr th:only-of-type {\n",
       "        vertical-align: middle;\n",
       "    }\n",
       "\n",
       "    .dataframe tbody tr th {\n",
       "        vertical-align: top;\n",
       "    }\n",
       "\n",
       "    .dataframe thead th {\n",
       "        text-align: right;\n",
       "    }\n",
       "</style>\n",
       "<table border=\"1\" class=\"dataframe\">\n",
       "  <thead>\n",
       "    <tr style=\"text-align: right;\">\n",
       "      <th></th>\n",
       "      <th>IdBundesland</th>\n",
       "      <th>Bundesland</th>\n",
       "      <th>Landkreis</th>\n",
       "      <th>Altersgruppe</th>\n",
       "      <th>Geschlecht</th>\n",
       "      <th>AnzahlFall</th>\n",
       "      <th>AnzahlTodesfall</th>\n",
       "      <th>ObjectId</th>\n",
       "      <th>Meldedatum</th>\n",
       "      <th>IdLandkreis</th>\n",
       "      <th>Datenstand</th>\n",
       "      <th>NeuerFall</th>\n",
       "      <th>NeuerTodesfall</th>\n",
       "      <th>Refdatum</th>\n",
       "      <th>NeuGenesen</th>\n",
       "      <th>AnzahlGenesen</th>\n",
       "      <th>IstErkrankungsbeginn</th>\n",
       "      <th>Altersgruppe2</th>\n",
       "    </tr>\n",
       "  </thead>\n",
       "  <tbody>\n",
       "    <tr>\n",
       "      <td>767273</td>\n",
       "      <td>16</td>\n",
       "      <td>Thüringen</td>\n",
       "      <td>LK Greiz</td>\n",
       "      <td>A35-A59</td>\n",
       "      <td>W</td>\n",
       "      <td>2</td>\n",
       "      <td>0</td>\n",
       "      <td>767274</td>\n",
       "      <td>2020/11/07 00:00:00+00</td>\n",
       "      <td>16076</td>\n",
       "      <td>19.12.2020, 00:00 Uhr</td>\n",
       "      <td>0</td>\n",
       "      <td>-9</td>\n",
       "      <td>2020/11/07 00:00:00+00</td>\n",
       "      <td>0</td>\n",
       "      <td>2</td>\n",
       "      <td>0</td>\n",
       "      <td>Nicht übermittelt</td>\n",
       "    </tr>\n",
       "    <tr>\n",
       "      <td>767274</td>\n",
       "      <td>16</td>\n",
       "      <td>Thüringen</td>\n",
       "      <td>LK Greiz</td>\n",
       "      <td>A35-A59</td>\n",
       "      <td>W</td>\n",
       "      <td>1</td>\n",
       "      <td>0</td>\n",
       "      <td>767275</td>\n",
       "      <td>2020/11/08 00:00:00+00</td>\n",
       "      <td>16076</td>\n",
       "      <td>19.12.2020, 00:00 Uhr</td>\n",
       "      <td>0</td>\n",
       "      <td>-9</td>\n",
       "      <td>2020/11/01 00:00:00+00</td>\n",
       "      <td>0</td>\n",
       "      <td>1</td>\n",
       "      <td>1</td>\n",
       "      <td>Nicht übermittelt</td>\n",
       "    </tr>\n",
       "    <tr>\n",
       "      <td>767275</td>\n",
       "      <td>16</td>\n",
       "      <td>Thüringen</td>\n",
       "      <td>LK Greiz</td>\n",
       "      <td>A35-A59</td>\n",
       "      <td>W</td>\n",
       "      <td>1</td>\n",
       "      <td>0</td>\n",
       "      <td>767276</td>\n",
       "      <td>2020/11/09 00:00:00+00</td>\n",
       "      <td>16076</td>\n",
       "      <td>19.12.2020, 00:00 Uhr</td>\n",
       "      <td>0</td>\n",
       "      <td>-9</td>\n",
       "      <td>2020/11/07 00:00:00+00</td>\n",
       "      <td>0</td>\n",
       "      <td>1</td>\n",
       "      <td>1</td>\n",
       "      <td>Nicht übermittelt</td>\n",
       "    </tr>\n",
       "    <tr>\n",
       "      <td>767276</td>\n",
       "      <td>16</td>\n",
       "      <td>Thüringen</td>\n",
       "      <td>LK Greiz</td>\n",
       "      <td>A35-A59</td>\n",
       "      <td>W</td>\n",
       "      <td>1</td>\n",
       "      <td>0</td>\n",
       "      <td>767277</td>\n",
       "      <td>2020/11/10 00:00:00+00</td>\n",
       "      <td>16076</td>\n",
       "      <td>19.12.2020, 00:00 Uhr</td>\n",
       "      <td>0</td>\n",
       "      <td>-9</td>\n",
       "      <td>2020/11/06 00:00:00+00</td>\n",
       "      <td>0</td>\n",
       "      <td>1</td>\n",
       "      <td>1</td>\n",
       "      <td>Nicht übermittelt</td>\n",
       "    </tr>\n",
       "    <tr>\n",
       "      <td>767277</td>\n",
       "      <td>16</td>\n",
       "      <td>Thüringen</td>\n",
       "      <td>LK Greiz</td>\n",
       "      <td>A35-A59</td>\n",
       "      <td>W</td>\n",
       "      <td>1</td>\n",
       "      <td>0</td>\n",
       "      <td>767278</td>\n",
       "      <td>2020/11/10 00:00:00+00</td>\n",
       "      <td>16076</td>\n",
       "      <td>19.12.2020, 00:00 Uhr</td>\n",
       "      <td>0</td>\n",
       "      <td>-9</td>\n",
       "      <td>2020/11/07 00:00:00+00</td>\n",
       "      <td>0</td>\n",
       "      <td>1</td>\n",
       "      <td>1</td>\n",
       "      <td>Nicht übermittelt</td>\n",
       "    </tr>\n",
       "  </tbody>\n",
       "</table>\n",
       "</div>"
      ],
      "text/plain": [
       "        IdBundesland Bundesland Landkreis Altersgruppe Geschlecht  AnzahlFall  \\\n",
       "767273            16  Thüringen  LK Greiz      A35-A59          W           2   \n",
       "767274            16  Thüringen  LK Greiz      A35-A59          W           1   \n",
       "767275            16  Thüringen  LK Greiz      A35-A59          W           1   \n",
       "767276            16  Thüringen  LK Greiz      A35-A59          W           1   \n",
       "767277            16  Thüringen  LK Greiz      A35-A59          W           1   \n",
       "\n",
       "        AnzahlTodesfall  ObjectId              Meldedatum  IdLandkreis  \\\n",
       "767273                0    767274  2020/11/07 00:00:00+00        16076   \n",
       "767274                0    767275  2020/11/08 00:00:00+00        16076   \n",
       "767275                0    767276  2020/11/09 00:00:00+00        16076   \n",
       "767276                0    767277  2020/11/10 00:00:00+00        16076   \n",
       "767277                0    767278  2020/11/10 00:00:00+00        16076   \n",
       "\n",
       "                   Datenstand  NeuerFall  NeuerTodesfall  \\\n",
       "767273  19.12.2020, 00:00 Uhr          0              -9   \n",
       "767274  19.12.2020, 00:00 Uhr          0              -9   \n",
       "767275  19.12.2020, 00:00 Uhr          0              -9   \n",
       "767276  19.12.2020, 00:00 Uhr          0              -9   \n",
       "767277  19.12.2020, 00:00 Uhr          0              -9   \n",
       "\n",
       "                      Refdatum  NeuGenesen  AnzahlGenesen  \\\n",
       "767273  2020/11/07 00:00:00+00           0              2   \n",
       "767274  2020/11/01 00:00:00+00           0              1   \n",
       "767275  2020/11/07 00:00:00+00           0              1   \n",
       "767276  2020/11/06 00:00:00+00           0              1   \n",
       "767277  2020/11/07 00:00:00+00           0              1   \n",
       "\n",
       "        IstErkrankungsbeginn      Altersgruppe2  \n",
       "767273                     0  Nicht übermittelt  \n",
       "767274                     1  Nicht übermittelt  \n",
       "767275                     1  Nicht übermittelt  \n",
       "767276                     1  Nicht übermittelt  \n",
       "767277                     1  Nicht übermittelt  "
      ]
     },
     "execution_count": 451,
     "metadata": {},
     "output_type": "execute_result"
    }
   ],
   "source": [
    "rki.tail()"
   ]
  },
  {
   "cell_type": "code",
   "execution_count": 354,
   "metadata": {
    "ExecuteTime": {
     "end_time": "2020-12-20T00:10:54.890645Z",
     "start_time": "2020-12-20T00:10:54.400261Z"
    },
    "collapsed": true
   },
   "outputs": [
    {
     "data": {
      "text/html": [
       "<div>\n",
       "<style scoped>\n",
       "    .dataframe tbody tr th:only-of-type {\n",
       "        vertical-align: middle;\n",
       "    }\n",
       "\n",
       "    .dataframe tbody tr th {\n",
       "        vertical-align: top;\n",
       "    }\n",
       "\n",
       "    .dataframe thead th {\n",
       "        text-align: right;\n",
       "    }\n",
       "</style>\n",
       "<table border=\"1\" class=\"dataframe\">\n",
       "  <thead>\n",
       "    <tr style=\"text-align: right;\">\n",
       "      <th></th>\n",
       "      <th>IdBundesland</th>\n",
       "      <th>Bundesland</th>\n",
       "      <th>Landkreis</th>\n",
       "      <th>Altersgruppe</th>\n",
       "      <th>Geschlecht</th>\n",
       "      <th>AnzahlFall</th>\n",
       "      <th>AnzahlTodesfall</th>\n",
       "      <th>ObjectId</th>\n",
       "      <th>Meldedatum</th>\n",
       "      <th>IdLandkreis</th>\n",
       "      <th>Datenstand</th>\n",
       "      <th>NeuerFall</th>\n",
       "      <th>NeuerTodesfall</th>\n",
       "      <th>Refdatum</th>\n",
       "      <th>NeuGenesen</th>\n",
       "      <th>AnzahlGenesen</th>\n",
       "      <th>IstErkrankungsbeginn</th>\n",
       "      <th>Altersgruppe2</th>\n",
       "    </tr>\n",
       "  </thead>\n",
       "  <tbody>\n",
       "    <tr>\n",
       "      <td>290000</td>\n",
       "      <td>6</td>\n",
       "      <td>Hessen</td>\n",
       "      <td>LK Wetteraukreis</td>\n",
       "      <td>A05-A14</td>\n",
       "      <td>M</td>\n",
       "      <td>1</td>\n",
       "      <td>0</td>\n",
       "      <td>290001</td>\n",
       "      <td>2020/12/04 00:00:00+00</td>\n",
       "      <td>6440</td>\n",
       "      <td>19.12.2020, 00:00 Uhr</td>\n",
       "      <td>0</td>\n",
       "      <td>-9</td>\n",
       "      <td>2020/12/03 00:00:00+00</td>\n",
       "      <td>0</td>\n",
       "      <td>1</td>\n",
       "      <td>1</td>\n",
       "      <td>Nicht übermittelt</td>\n",
       "    </tr>\n",
       "    <tr>\n",
       "      <td>290001</td>\n",
       "      <td>6</td>\n",
       "      <td>Hessen</td>\n",
       "      <td>LK Wetteraukreis</td>\n",
       "      <td>A05-A14</td>\n",
       "      <td>M</td>\n",
       "      <td>1</td>\n",
       "      <td>0</td>\n",
       "      <td>290002</td>\n",
       "      <td>2020/12/04 00:00:00+00</td>\n",
       "      <td>6440</td>\n",
       "      <td>19.12.2020, 00:00 Uhr</td>\n",
       "      <td>0</td>\n",
       "      <td>-9</td>\n",
       "      <td>2020/12/04 00:00:00+00</td>\n",
       "      <td>-9</td>\n",
       "      <td>0</td>\n",
       "      <td>0</td>\n",
       "      <td>Nicht übermittelt</td>\n",
       "    </tr>\n",
       "    <tr>\n",
       "      <td>290002</td>\n",
       "      <td>6</td>\n",
       "      <td>Hessen</td>\n",
       "      <td>LK Wetteraukreis</td>\n",
       "      <td>A05-A14</td>\n",
       "      <td>M</td>\n",
       "      <td>1</td>\n",
       "      <td>0</td>\n",
       "      <td>290003</td>\n",
       "      <td>2020/12/04 00:00:00+00</td>\n",
       "      <td>6440</td>\n",
       "      <td>19.12.2020, 00:00 Uhr</td>\n",
       "      <td>0</td>\n",
       "      <td>-9</td>\n",
       "      <td>2020/12/04 00:00:00+00</td>\n",
       "      <td>0</td>\n",
       "      <td>1</td>\n",
       "      <td>0</td>\n",
       "      <td>Nicht übermittelt</td>\n",
       "    </tr>\n",
       "    <tr>\n",
       "      <td>290003</td>\n",
       "      <td>6</td>\n",
       "      <td>Hessen</td>\n",
       "      <td>LK Wetteraukreis</td>\n",
       "      <td>A05-A14</td>\n",
       "      <td>M</td>\n",
       "      <td>1</td>\n",
       "      <td>0</td>\n",
       "      <td>290004</td>\n",
       "      <td>2020/12/05 00:00:00+00</td>\n",
       "      <td>6440</td>\n",
       "      <td>19.12.2020, 00:00 Uhr</td>\n",
       "      <td>0</td>\n",
       "      <td>-9</td>\n",
       "      <td>2020/12/05 00:00:00+00</td>\n",
       "      <td>1</td>\n",
       "      <td>1</td>\n",
       "      <td>0</td>\n",
       "      <td>Nicht übermittelt</td>\n",
       "    </tr>\n",
       "    <tr>\n",
       "      <td>290004</td>\n",
       "      <td>6</td>\n",
       "      <td>Hessen</td>\n",
       "      <td>LK Wetteraukreis</td>\n",
       "      <td>A05-A14</td>\n",
       "      <td>M</td>\n",
       "      <td>1</td>\n",
       "      <td>0</td>\n",
       "      <td>290005</td>\n",
       "      <td>2020/12/07 00:00:00+00</td>\n",
       "      <td>6440</td>\n",
       "      <td>19.12.2020, 00:00 Uhr</td>\n",
       "      <td>0</td>\n",
       "      <td>-9</td>\n",
       "      <td>2020/12/02 00:00:00+00</td>\n",
       "      <td>0</td>\n",
       "      <td>1</td>\n",
       "      <td>1</td>\n",
       "      <td>Nicht übermittelt</td>\n",
       "    </tr>\n",
       "    <tr>\n",
       "      <td>...</td>\n",
       "      <td>...</td>\n",
       "      <td>...</td>\n",
       "      <td>...</td>\n",
       "      <td>...</td>\n",
       "      <td>...</td>\n",
       "      <td>...</td>\n",
       "      <td>...</td>\n",
       "      <td>...</td>\n",
       "      <td>...</td>\n",
       "      <td>...</td>\n",
       "      <td>...</td>\n",
       "      <td>...</td>\n",
       "      <td>...</td>\n",
       "      <td>...</td>\n",
       "      <td>...</td>\n",
       "      <td>...</td>\n",
       "      <td>...</td>\n",
       "      <td>...</td>\n",
       "    </tr>\n",
       "    <tr>\n",
       "      <td>294995</td>\n",
       "      <td>6</td>\n",
       "      <td>Hessen</td>\n",
       "      <td>LK Wetteraukreis</td>\n",
       "      <td>A15-A34</td>\n",
       "      <td>W</td>\n",
       "      <td>-1</td>\n",
       "      <td>0</td>\n",
       "      <td>294996</td>\n",
       "      <td>2020/12/12 00:00:00+00</td>\n",
       "      <td>6440</td>\n",
       "      <td>19.12.2020, 00:00 Uhr</td>\n",
       "      <td>-1</td>\n",
       "      <td>-9</td>\n",
       "      <td>2020/12/12 00:00:00+00</td>\n",
       "      <td>-9</td>\n",
       "      <td>0</td>\n",
       "      <td>0</td>\n",
       "      <td>Nicht übermittelt</td>\n",
       "    </tr>\n",
       "    <tr>\n",
       "      <td>294996</td>\n",
       "      <td>6</td>\n",
       "      <td>Hessen</td>\n",
       "      <td>LK Wetteraukreis</td>\n",
       "      <td>A15-A34</td>\n",
       "      <td>W</td>\n",
       "      <td>3</td>\n",
       "      <td>0</td>\n",
       "      <td>294997</td>\n",
       "      <td>2020/12/12 00:00:00+00</td>\n",
       "      <td>6440</td>\n",
       "      <td>19.12.2020, 00:00 Uhr</td>\n",
       "      <td>0</td>\n",
       "      <td>-9</td>\n",
       "      <td>2020/12/12 00:00:00+00</td>\n",
       "      <td>-9</td>\n",
       "      <td>0</td>\n",
       "      <td>0</td>\n",
       "      <td>Nicht übermittelt</td>\n",
       "    </tr>\n",
       "    <tr>\n",
       "      <td>294997</td>\n",
       "      <td>6</td>\n",
       "      <td>Hessen</td>\n",
       "      <td>LK Wetteraukreis</td>\n",
       "      <td>A15-A34</td>\n",
       "      <td>W</td>\n",
       "      <td>1</td>\n",
       "      <td>0</td>\n",
       "      <td>294998</td>\n",
       "      <td>2020/12/13 00:00:00+00</td>\n",
       "      <td>6440</td>\n",
       "      <td>19.12.2020, 00:00 Uhr</td>\n",
       "      <td>0</td>\n",
       "      <td>-9</td>\n",
       "      <td>2020/12/08 00:00:00+00</td>\n",
       "      <td>-9</td>\n",
       "      <td>0</td>\n",
       "      <td>1</td>\n",
       "      <td>Nicht übermittelt</td>\n",
       "    </tr>\n",
       "    <tr>\n",
       "      <td>294998</td>\n",
       "      <td>6</td>\n",
       "      <td>Hessen</td>\n",
       "      <td>LK Wetteraukreis</td>\n",
       "      <td>A15-A34</td>\n",
       "      <td>W</td>\n",
       "      <td>1</td>\n",
       "      <td>0</td>\n",
       "      <td>294999</td>\n",
       "      <td>2020/12/13 00:00:00+00</td>\n",
       "      <td>6440</td>\n",
       "      <td>19.12.2020, 00:00 Uhr</td>\n",
       "      <td>0</td>\n",
       "      <td>-9</td>\n",
       "      <td>2020/12/11 00:00:00+00</td>\n",
       "      <td>-9</td>\n",
       "      <td>0</td>\n",
       "      <td>1</td>\n",
       "      <td>Nicht übermittelt</td>\n",
       "    </tr>\n",
       "    <tr>\n",
       "      <td>294999</td>\n",
       "      <td>6</td>\n",
       "      <td>Hessen</td>\n",
       "      <td>LK Wetteraukreis</td>\n",
       "      <td>A15-A34</td>\n",
       "      <td>W</td>\n",
       "      <td>1</td>\n",
       "      <td>0</td>\n",
       "      <td>295000</td>\n",
       "      <td>2020/12/14 00:00:00+00</td>\n",
       "      <td>6440</td>\n",
       "      <td>19.12.2020, 00:00 Uhr</td>\n",
       "      <td>0</td>\n",
       "      <td>-9</td>\n",
       "      <td>2020/12/08 00:00:00+00</td>\n",
       "      <td>-9</td>\n",
       "      <td>0</td>\n",
       "      <td>1</td>\n",
       "      <td>Nicht übermittelt</td>\n",
       "    </tr>\n",
       "  </tbody>\n",
       "</table>\n",
       "<p>3069 rows × 18 columns</p>\n",
       "</div>"
      ],
      "text/plain": [
       "        IdBundesland Bundesland         Landkreis Altersgruppe Geschlecht  \\\n",
       "290000             6     Hessen  LK Wetteraukreis      A05-A14          M   \n",
       "290001             6     Hessen  LK Wetteraukreis      A05-A14          M   \n",
       "290002             6     Hessen  LK Wetteraukreis      A05-A14          M   \n",
       "290003             6     Hessen  LK Wetteraukreis      A05-A14          M   \n",
       "290004             6     Hessen  LK Wetteraukreis      A05-A14          M   \n",
       "...              ...        ...               ...          ...        ...   \n",
       "294995             6     Hessen  LK Wetteraukreis      A15-A34          W   \n",
       "294996             6     Hessen  LK Wetteraukreis      A15-A34          W   \n",
       "294997             6     Hessen  LK Wetteraukreis      A15-A34          W   \n",
       "294998             6     Hessen  LK Wetteraukreis      A15-A34          W   \n",
       "294999             6     Hessen  LK Wetteraukreis      A15-A34          W   \n",
       "\n",
       "        AnzahlFall  AnzahlTodesfall  ObjectId              Meldedatum  \\\n",
       "290000           1                0    290001  2020/12/04 00:00:00+00   \n",
       "290001           1                0    290002  2020/12/04 00:00:00+00   \n",
       "290002           1                0    290003  2020/12/04 00:00:00+00   \n",
       "290003           1                0    290004  2020/12/05 00:00:00+00   \n",
       "290004           1                0    290005  2020/12/07 00:00:00+00   \n",
       "...            ...              ...       ...                     ...   \n",
       "294995          -1                0    294996  2020/12/12 00:00:00+00   \n",
       "294996           3                0    294997  2020/12/12 00:00:00+00   \n",
       "294997           1                0    294998  2020/12/13 00:00:00+00   \n",
       "294998           1                0    294999  2020/12/13 00:00:00+00   \n",
       "294999           1                0    295000  2020/12/14 00:00:00+00   \n",
       "\n",
       "        IdLandkreis             Datenstand  NeuerFall  NeuerTodesfall  \\\n",
       "290000         6440  19.12.2020, 00:00 Uhr          0              -9   \n",
       "290001         6440  19.12.2020, 00:00 Uhr          0              -9   \n",
       "290002         6440  19.12.2020, 00:00 Uhr          0              -9   \n",
       "290003         6440  19.12.2020, 00:00 Uhr          0              -9   \n",
       "290004         6440  19.12.2020, 00:00 Uhr          0              -9   \n",
       "...             ...                    ...        ...             ...   \n",
       "294995         6440  19.12.2020, 00:00 Uhr         -1              -9   \n",
       "294996         6440  19.12.2020, 00:00 Uhr          0              -9   \n",
       "294997         6440  19.12.2020, 00:00 Uhr          0              -9   \n",
       "294998         6440  19.12.2020, 00:00 Uhr          0              -9   \n",
       "294999         6440  19.12.2020, 00:00 Uhr          0              -9   \n",
       "\n",
       "                      Refdatum  NeuGenesen  AnzahlGenesen  \\\n",
       "290000  2020/12/03 00:00:00+00           0              1   \n",
       "290001  2020/12/04 00:00:00+00          -9              0   \n",
       "290002  2020/12/04 00:00:00+00           0              1   \n",
       "290003  2020/12/05 00:00:00+00           1              1   \n",
       "290004  2020/12/02 00:00:00+00           0              1   \n",
       "...                        ...         ...            ...   \n",
       "294995  2020/12/12 00:00:00+00          -9              0   \n",
       "294996  2020/12/12 00:00:00+00          -9              0   \n",
       "294997  2020/12/08 00:00:00+00          -9              0   \n",
       "294998  2020/12/11 00:00:00+00          -9              0   \n",
       "294999  2020/12/08 00:00:00+00          -9              0   \n",
       "\n",
       "        IstErkrankungsbeginn      Altersgruppe2  \n",
       "290000                     1  Nicht übermittelt  \n",
       "290001                     0  Nicht übermittelt  \n",
       "290002                     0  Nicht übermittelt  \n",
       "290003                     0  Nicht übermittelt  \n",
       "290004                     1  Nicht übermittelt  \n",
       "...                      ...                ...  \n",
       "294995                     0  Nicht übermittelt  \n",
       "294996                     0  Nicht übermittelt  \n",
       "294997                     1  Nicht übermittelt  \n",
       "294998                     1  Nicht übermittelt  \n",
       "294999                     1  Nicht übermittelt  \n",
       "\n",
       "[3069 rows x 18 columns]"
      ]
     },
     "execution_count": 354,
     "metadata": {},
     "output_type": "execute_result"
    }
   ],
   "source": [
    "rki[rki.Landkreis.str.contains('Wetterau')]"
   ]
  },
  {
   "cell_type": "code",
   "execution_count": 355,
   "metadata": {
    "ExecuteTime": {
     "end_time": "2020-12-20T00:11:04.016895Z",
     "start_time": "2020-12-20T00:11:03.728557Z"
    },
    "collapsed": true
   },
   "outputs": [
    {
     "name": "stdout",
     "output_type": "stream",
     "text": [
      "<class 'pandas.core.frame.DataFrame'>\n",
      "RangeIndex: 767278 entries, 0 to 767277\n",
      "Data columns (total 18 columns):\n",
      "IdBundesland            767278 non-null int64\n",
      "Bundesland              767278 non-null object\n",
      "Landkreis               767278 non-null object\n",
      "Altersgruppe            767278 non-null object\n",
      "Geschlecht              767278 non-null object\n",
      "AnzahlFall              767278 non-null int64\n",
      "AnzahlTodesfall         767278 non-null int64\n",
      "ObjectId                767278 non-null int64\n",
      "Meldedatum              767278 non-null object\n",
      "IdLandkreis             767278 non-null int64\n",
      "Datenstand              767278 non-null object\n",
      "NeuerFall               767278 non-null int64\n",
      "NeuerTodesfall          767278 non-null int64\n",
      "Refdatum                767278 non-null object\n",
      "NeuGenesen              767278 non-null int64\n",
      "AnzahlGenesen           767278 non-null int64\n",
      "IstErkrankungsbeginn    767278 non-null int64\n",
      "Altersgruppe2           767278 non-null object\n",
      "dtypes: int64(10), object(8)\n",
      "memory usage: 105.4+ MB\n"
     ]
    }
   ],
   "source": [
    "rki.info()"
   ]
  },
  {
   "cell_type": "code",
   "execution_count": 456,
   "metadata": {
    "ExecuteTime": {
     "end_time": "2020-12-20T01:34:52.618260Z",
     "start_time": "2020-12-20T01:34:52.498509Z"
    }
   },
   "outputs": [],
   "source": [
    "wtk = pd.DataFrame(rki[['Meldedatum','Bundesland','Landkreis','AnzahlFall','NeuerFall']])[rki['Landkreis']=='LK Wetteraukreis']"
   ]
  },
  {
   "cell_type": "code",
   "execution_count": 457,
   "metadata": {
    "ExecuteTime": {
     "end_time": "2020-12-20T01:34:53.965206Z",
     "start_time": "2020-12-20T01:34:53.835637Z"
    }
   },
   "outputs": [
    {
     "name": "stderr",
     "output_type": "stream",
     "text": [
      "/opt/anaconda3/lib/python3.7/site-packages/ipykernel_launcher.py:1: UserWarning: Boolean Series key will be reindexed to match DataFrame index.\n",
      "  \"\"\"Entry point for launching an IPython kernel.\n"
     ]
    }
   ],
   "source": [
    "wtk = pd.DataFrame(rki[['Meldedatum','Bundesland','Landkreis','AnzahlFall','NeuerFall']])[rki['NeuerFall'].isin([0,1])][rki['Landkreis']=='LK Wetteraukreis']"
   ]
  },
  {
   "cell_type": "code",
   "execution_count": 473,
   "metadata": {
    "ExecuteTime": {
     "end_time": "2020-12-20T01:39:38.767486Z",
     "start_time": "2020-12-20T01:39:38.739688Z"
    }
   },
   "outputs": [
    {
     "data": {
      "text/html": [
       "<div>\n",
       "<style scoped>\n",
       "    .dataframe tbody tr th:only-of-type {\n",
       "        vertical-align: middle;\n",
       "    }\n",
       "\n",
       "    .dataframe tbody tr th {\n",
       "        vertical-align: top;\n",
       "    }\n",
       "\n",
       "    .dataframe thead th {\n",
       "        text-align: right;\n",
       "    }\n",
       "</style>\n",
       "<table border=\"1\" class=\"dataframe\">\n",
       "  <thead>\n",
       "    <tr style=\"text-align: right;\">\n",
       "      <th></th>\n",
       "      <th>Meldedatum</th>\n",
       "      <th>Bundesland</th>\n",
       "      <th>Landkreis</th>\n",
       "      <th>AnzahlFall</th>\n",
       "      <th>NeuerFall</th>\n",
       "    </tr>\n",
       "  </thead>\n",
       "  <tbody>\n",
       "    <tr>\n",
       "      <td>290000</td>\n",
       "      <td>2020-12-04</td>\n",
       "      <td>Hessen</td>\n",
       "      <td>LK Wetteraukreis</td>\n",
       "      <td>1</td>\n",
       "      <td>0</td>\n",
       "    </tr>\n",
       "    <tr>\n",
       "      <td>290001</td>\n",
       "      <td>2020-12-04</td>\n",
       "      <td>Hessen</td>\n",
       "      <td>LK Wetteraukreis</td>\n",
       "      <td>1</td>\n",
       "      <td>0</td>\n",
       "    </tr>\n",
       "    <tr>\n",
       "      <td>290002</td>\n",
       "      <td>2020-12-04</td>\n",
       "      <td>Hessen</td>\n",
       "      <td>LK Wetteraukreis</td>\n",
       "      <td>1</td>\n",
       "      <td>0</td>\n",
       "    </tr>\n",
       "    <tr>\n",
       "      <td>290003</td>\n",
       "      <td>2020-12-05</td>\n",
       "      <td>Hessen</td>\n",
       "      <td>LK Wetteraukreis</td>\n",
       "      <td>1</td>\n",
       "      <td>0</td>\n",
       "    </tr>\n",
       "    <tr>\n",
       "      <td>290004</td>\n",
       "      <td>2020-12-07</td>\n",
       "      <td>Hessen</td>\n",
       "      <td>LK Wetteraukreis</td>\n",
       "      <td>1</td>\n",
       "      <td>0</td>\n",
       "    </tr>\n",
       "    <tr>\n",
       "      <td>...</td>\n",
       "      <td>...</td>\n",
       "      <td>...</td>\n",
       "      <td>...</td>\n",
       "      <td>...</td>\n",
       "      <td>...</td>\n",
       "    </tr>\n",
       "    <tr>\n",
       "      <td>294994</td>\n",
       "      <td>2020-12-12</td>\n",
       "      <td>Hessen</td>\n",
       "      <td>LK Wetteraukreis</td>\n",
       "      <td>1</td>\n",
       "      <td>0</td>\n",
       "    </tr>\n",
       "    <tr>\n",
       "      <td>294996</td>\n",
       "      <td>2020-12-12</td>\n",
       "      <td>Hessen</td>\n",
       "      <td>LK Wetteraukreis</td>\n",
       "      <td>3</td>\n",
       "      <td>0</td>\n",
       "    </tr>\n",
       "    <tr>\n",
       "      <td>294997</td>\n",
       "      <td>2020-12-13</td>\n",
       "      <td>Hessen</td>\n",
       "      <td>LK Wetteraukreis</td>\n",
       "      <td>1</td>\n",
       "      <td>0</td>\n",
       "    </tr>\n",
       "    <tr>\n",
       "      <td>294998</td>\n",
       "      <td>2020-12-13</td>\n",
       "      <td>Hessen</td>\n",
       "      <td>LK Wetteraukreis</td>\n",
       "      <td>1</td>\n",
       "      <td>0</td>\n",
       "    </tr>\n",
       "    <tr>\n",
       "      <td>294999</td>\n",
       "      <td>2020-12-14</td>\n",
       "      <td>Hessen</td>\n",
       "      <td>LK Wetteraukreis</td>\n",
       "      <td>1</td>\n",
       "      <td>0</td>\n",
       "    </tr>\n",
       "  </tbody>\n",
       "</table>\n",
       "<p>3068 rows × 5 columns</p>\n",
       "</div>"
      ],
      "text/plain": [
       "        Meldedatum Bundesland         Landkreis  AnzahlFall  NeuerFall\n",
       "290000  2020-12-04     Hessen  LK Wetteraukreis           1          0\n",
       "290001  2020-12-04     Hessen  LK Wetteraukreis           1          0\n",
       "290002  2020-12-04     Hessen  LK Wetteraukreis           1          0\n",
       "290003  2020-12-05     Hessen  LK Wetteraukreis           1          0\n",
       "290004  2020-12-07     Hessen  LK Wetteraukreis           1          0\n",
       "...            ...        ...               ...         ...        ...\n",
       "294994  2020-12-12     Hessen  LK Wetteraukreis           1          0\n",
       "294996  2020-12-12     Hessen  LK Wetteraukreis           3          0\n",
       "294997  2020-12-13     Hessen  LK Wetteraukreis           1          0\n",
       "294998  2020-12-13     Hessen  LK Wetteraukreis           1          0\n",
       "294999  2020-12-14     Hessen  LK Wetteraukreis           1          0\n",
       "\n",
       "[3068 rows x 5 columns]"
      ]
     },
     "execution_count": 473,
     "metadata": {},
     "output_type": "execute_result"
    }
   ],
   "source": [
    "wtk"
   ]
  },
  {
   "cell_type": "code",
   "execution_count": 468,
   "metadata": {
    "ExecuteTime": {
     "end_time": "2020-12-20T01:39:01.740999Z",
     "start_time": "2020-12-20T01:39:01.681942Z"
    }
   },
   "outputs": [],
   "source": [
    "wtk['Meldedatum'] = wtk['Meldedatum'].astype('datetime64[ns]')"
   ]
  },
  {
   "cell_type": "code",
   "execution_count": 471,
   "metadata": {
    "ExecuteTime": {
     "end_time": "2020-12-20T01:39:32.376490Z",
     "start_time": "2020-12-20T01:39:32.326815Z"
    }
   },
   "outputs": [],
   "source": [
    "wtk['Meldedatum'] = wtk['Meldedatum'].dt.date"
   ]
  },
  {
   "cell_type": "code",
   "execution_count": 474,
   "metadata": {
    "ExecuteTime": {
     "end_time": "2020-12-20T01:39:44.961696Z",
     "start_time": "2020-12-20T01:39:44.903826Z"
    }
   },
   "outputs": [
    {
     "data": {
      "text/html": [
       "<div>\n",
       "<style scoped>\n",
       "    .dataframe tbody tr th:only-of-type {\n",
       "        vertical-align: middle;\n",
       "    }\n",
       "\n",
       "    .dataframe tbody tr th {\n",
       "        vertical-align: top;\n",
       "    }\n",
       "\n",
       "    .dataframe thead th {\n",
       "        text-align: right;\n",
       "    }\n",
       "</style>\n",
       "<table border=\"1\" class=\"dataframe\">\n",
       "  <thead>\n",
       "    <tr style=\"text-align: right;\">\n",
       "      <th></th>\n",
       "      <th>Bundesland</th>\n",
       "      <th>Landkreis</th>\n",
       "      <th>AnzahlFall</th>\n",
       "      <th>NeuerFall</th>\n",
       "    </tr>\n",
       "    <tr>\n",
       "      <th>Meldedatum</th>\n",
       "      <th></th>\n",
       "      <th></th>\n",
       "      <th></th>\n",
       "      <th></th>\n",
       "    </tr>\n",
       "  </thead>\n",
       "  <tbody>\n",
       "    <tr>\n",
       "      <td>2020-12-04</td>\n",
       "      <td>Hessen</td>\n",
       "      <td>LK Wetteraukreis</td>\n",
       "      <td>1</td>\n",
       "      <td>0</td>\n",
       "    </tr>\n",
       "    <tr>\n",
       "      <td>2020-12-04</td>\n",
       "      <td>Hessen</td>\n",
       "      <td>LK Wetteraukreis</td>\n",
       "      <td>1</td>\n",
       "      <td>0</td>\n",
       "    </tr>\n",
       "    <tr>\n",
       "      <td>2020-12-04</td>\n",
       "      <td>Hessen</td>\n",
       "      <td>LK Wetteraukreis</td>\n",
       "      <td>1</td>\n",
       "      <td>0</td>\n",
       "    </tr>\n",
       "    <tr>\n",
       "      <td>2020-12-05</td>\n",
       "      <td>Hessen</td>\n",
       "      <td>LK Wetteraukreis</td>\n",
       "      <td>1</td>\n",
       "      <td>0</td>\n",
       "    </tr>\n",
       "    <tr>\n",
       "      <td>2020-12-07</td>\n",
       "      <td>Hessen</td>\n",
       "      <td>LK Wetteraukreis</td>\n",
       "      <td>1</td>\n",
       "      <td>0</td>\n",
       "    </tr>\n",
       "    <tr>\n",
       "      <td>...</td>\n",
       "      <td>...</td>\n",
       "      <td>...</td>\n",
       "      <td>...</td>\n",
       "      <td>...</td>\n",
       "    </tr>\n",
       "    <tr>\n",
       "      <td>2020-12-12</td>\n",
       "      <td>Hessen</td>\n",
       "      <td>LK Wetteraukreis</td>\n",
       "      <td>1</td>\n",
       "      <td>0</td>\n",
       "    </tr>\n",
       "    <tr>\n",
       "      <td>2020-12-12</td>\n",
       "      <td>Hessen</td>\n",
       "      <td>LK Wetteraukreis</td>\n",
       "      <td>3</td>\n",
       "      <td>0</td>\n",
       "    </tr>\n",
       "    <tr>\n",
       "      <td>2020-12-13</td>\n",
       "      <td>Hessen</td>\n",
       "      <td>LK Wetteraukreis</td>\n",
       "      <td>1</td>\n",
       "      <td>0</td>\n",
       "    </tr>\n",
       "    <tr>\n",
       "      <td>2020-12-13</td>\n",
       "      <td>Hessen</td>\n",
       "      <td>LK Wetteraukreis</td>\n",
       "      <td>1</td>\n",
       "      <td>0</td>\n",
       "    </tr>\n",
       "    <tr>\n",
       "      <td>2020-12-14</td>\n",
       "      <td>Hessen</td>\n",
       "      <td>LK Wetteraukreis</td>\n",
       "      <td>1</td>\n",
       "      <td>0</td>\n",
       "    </tr>\n",
       "  </tbody>\n",
       "</table>\n",
       "<p>3068 rows × 4 columns</p>\n",
       "</div>"
      ],
      "text/plain": [
       "           Bundesland         Landkreis  AnzahlFall  NeuerFall\n",
       "Meldedatum                                                    \n",
       "2020-12-04     Hessen  LK Wetteraukreis           1          0\n",
       "2020-12-04     Hessen  LK Wetteraukreis           1          0\n",
       "2020-12-04     Hessen  LK Wetteraukreis           1          0\n",
       "2020-12-05     Hessen  LK Wetteraukreis           1          0\n",
       "2020-12-07     Hessen  LK Wetteraukreis           1          0\n",
       "...               ...               ...         ...        ...\n",
       "2020-12-12     Hessen  LK Wetteraukreis           1          0\n",
       "2020-12-12     Hessen  LK Wetteraukreis           3          0\n",
       "2020-12-13     Hessen  LK Wetteraukreis           1          0\n",
       "2020-12-13     Hessen  LK Wetteraukreis           1          0\n",
       "2020-12-14     Hessen  LK Wetteraukreis           1          0\n",
       "\n",
       "[3068 rows x 4 columns]"
      ]
     },
     "execution_count": 474,
     "metadata": {},
     "output_type": "execute_result"
    }
   ],
   "source": [
    "wtk.set_index('Meldedatum')"
   ]
  },
  {
   "cell_type": "code",
   "execution_count": 475,
   "metadata": {
    "ExecuteTime": {
     "end_time": "2020-12-20T01:39:49.905463Z",
     "start_time": "2020-12-20T01:39:49.890695Z"
    }
   },
   "outputs": [],
   "source": [
    "wtk_groupby = wtk.groupby(['Meldedatum','Bundesland','Landkreis']).AnzahlFall.sum()"
   ]
  },
  {
   "cell_type": "code",
   "execution_count": 476,
   "metadata": {
    "ExecuteTime": {
     "end_time": "2020-12-20T01:39:51.181364Z",
     "start_time": "2020-12-20T01:39:51.174147Z"
    }
   },
   "outputs": [],
   "source": [
    "wtk_groupby = wtk.groupby(['Meldedatum']).AnzahlFall.sum()"
   ]
  },
  {
   "cell_type": "code",
   "execution_count": 477,
   "metadata": {
    "ExecuteTime": {
     "end_time": "2020-12-20T01:39:52.379038Z",
     "start_time": "2020-12-20T01:39:52.368924Z"
    }
   },
   "outputs": [],
   "source": [
    "wtk_groupby = pd.DataFrame(wtk_groupby)"
   ]
  },
  {
   "cell_type": "code",
   "execution_count": 478,
   "metadata": {
    "ExecuteTime": {
     "end_time": "2020-12-20T01:39:53.502310Z",
     "start_time": "2020-12-20T01:39:53.493817Z"
    }
   },
   "outputs": [],
   "source": [
    "wtk_groupby['rolling_sum'] = wtk_groupby['AnzahlFall'].rolling(7).sum()"
   ]
  },
  {
   "cell_type": "code",
   "execution_count": 479,
   "metadata": {
    "ExecuteTime": {
     "end_time": "2020-12-20T01:39:54.760258Z",
     "start_time": "2020-12-20T01:39:54.749832Z"
    }
   },
   "outputs": [],
   "source": [
    "wtk_groupby['inzidenzPro100000'] = wtk_groupby['rolling_sum'] / 308339 * 100000"
   ]
  },
  {
   "cell_type": "code",
   "execution_count": 480,
   "metadata": {
    "ExecuteTime": {
     "end_time": "2020-12-20T01:39:55.999689Z",
     "start_time": "2020-12-20T01:39:55.978958Z"
    }
   },
   "outputs": [
    {
     "data": {
      "text/html": [
       "<div>\n",
       "<style scoped>\n",
       "    .dataframe tbody tr th:only-of-type {\n",
       "        vertical-align: middle;\n",
       "    }\n",
       "\n",
       "    .dataframe tbody tr th {\n",
       "        vertical-align: top;\n",
       "    }\n",
       "\n",
       "    .dataframe thead th {\n",
       "        text-align: right;\n",
       "    }\n",
       "</style>\n",
       "<table border=\"1\" class=\"dataframe\">\n",
       "  <thead>\n",
       "    <tr style=\"text-align: right;\">\n",
       "      <th></th>\n",
       "      <th>AnzahlFall</th>\n",
       "      <th>rolling_sum</th>\n",
       "      <th>inzidenzPro100000</th>\n",
       "    </tr>\n",
       "    <tr>\n",
       "      <th>Meldedatum</th>\n",
       "      <th></th>\n",
       "      <th></th>\n",
       "      <th></th>\n",
       "    </tr>\n",
       "  </thead>\n",
       "  <tbody>\n",
       "    <tr>\n",
       "      <td>2020-03-11</td>\n",
       "      <td>1</td>\n",
       "      <td>NaN</td>\n",
       "      <td>NaN</td>\n",
       "    </tr>\n",
       "    <tr>\n",
       "      <td>2020-03-12</td>\n",
       "      <td>1</td>\n",
       "      <td>NaN</td>\n",
       "      <td>NaN</td>\n",
       "    </tr>\n",
       "    <tr>\n",
       "      <td>2020-03-13</td>\n",
       "      <td>2</td>\n",
       "      <td>NaN</td>\n",
       "      <td>NaN</td>\n",
       "    </tr>\n",
       "    <tr>\n",
       "      <td>2020-03-14</td>\n",
       "      <td>6</td>\n",
       "      <td>NaN</td>\n",
       "      <td>NaN</td>\n",
       "    </tr>\n",
       "    <tr>\n",
       "      <td>2020-03-15</td>\n",
       "      <td>3</td>\n",
       "      <td>NaN</td>\n",
       "      <td>NaN</td>\n",
       "    </tr>\n",
       "    <tr>\n",
       "      <td>...</td>\n",
       "      <td>...</td>\n",
       "      <td>...</td>\n",
       "      <td>...</td>\n",
       "    </tr>\n",
       "    <tr>\n",
       "      <td>2020-12-14</td>\n",
       "      <td>86</td>\n",
       "      <td>803.0</td>\n",
       "      <td>260.427646</td>\n",
       "    </tr>\n",
       "    <tr>\n",
       "      <td>2020-12-15</td>\n",
       "      <td>94</td>\n",
       "      <td>761.0</td>\n",
       "      <td>246.806275</td>\n",
       "    </tr>\n",
       "    <tr>\n",
       "      <td>2020-12-16</td>\n",
       "      <td>104</td>\n",
       "      <td>772.0</td>\n",
       "      <td>250.373777</td>\n",
       "    </tr>\n",
       "    <tr>\n",
       "      <td>2020-12-17</td>\n",
       "      <td>89</td>\n",
       "      <td>773.0</td>\n",
       "      <td>250.698095</td>\n",
       "    </tr>\n",
       "    <tr>\n",
       "      <td>2020-12-18</td>\n",
       "      <td>132</td>\n",
       "      <td>703.0</td>\n",
       "      <td>227.995810</td>\n",
       "    </tr>\n",
       "  </tbody>\n",
       "</table>\n",
       "<p>236 rows × 3 columns</p>\n",
       "</div>"
      ],
      "text/plain": [
       "            AnzahlFall  rolling_sum  inzidenzPro100000\n",
       "Meldedatum                                            \n",
       "2020-03-11           1          NaN                NaN\n",
       "2020-03-12           1          NaN                NaN\n",
       "2020-03-13           2          NaN                NaN\n",
       "2020-03-14           6          NaN                NaN\n",
       "2020-03-15           3          NaN                NaN\n",
       "...                ...          ...                ...\n",
       "2020-12-14          86        803.0         260.427646\n",
       "2020-12-15          94        761.0         246.806275\n",
       "2020-12-16         104        772.0         250.373777\n",
       "2020-12-17          89        773.0         250.698095\n",
       "2020-12-18         132        703.0         227.995810\n",
       "\n",
       "[236 rows x 3 columns]"
      ]
     },
     "execution_count": 480,
     "metadata": {},
     "output_type": "execute_result"
    }
   ],
   "source": [
    "wtk_groupby"
   ]
  },
  {
   "cell_type": "code",
   "execution_count": 447,
   "metadata": {
    "ExecuteTime": {
     "end_time": "2020-12-20T01:19:46.890813Z",
     "start_time": "2020-12-20T01:19:46.851660Z"
    }
   },
   "outputs": [],
   "source": [
    "wtk_groupby.to_csv('export_corona.csv')"
   ]
  },
  {
   "cell_type": "code",
   "execution_count": 481,
   "metadata": {
    "ExecuteTime": {
     "end_time": "2020-12-20T01:39:57.425950Z",
     "start_time": "2020-12-20T01:39:57.410399Z"
    }
   },
   "outputs": [
    {
     "data": {
      "text/plain": [
       "Meldedatum\n",
       "2020-03-11           NaN\n",
       "2020-03-12           NaN\n",
       "2020-03-13           NaN\n",
       "2020-03-14           NaN\n",
       "2020-03-15           NaN\n",
       "                 ...    \n",
       "2020-12-14    260.427646\n",
       "2020-12-15    246.806275\n",
       "2020-12-16    250.373777\n",
       "2020-12-17    250.698095\n",
       "2020-12-18    227.995810\n",
       "Name: inzidenzPro100000, Length: 236, dtype: float64"
      ]
     },
     "execution_count": 481,
     "metadata": {},
     "output_type": "execute_result"
    }
   ],
   "source": [
    "wtk_groupby['inzidenzPro100000']"
   ]
  },
  {
   "cell_type": "code",
   "execution_count": 482,
   "metadata": {
    "ExecuteTime": {
     "end_time": "2020-12-20T01:40:03.007188Z",
     "start_time": "2020-12-20T01:39:59.639790Z"
    }
   },
   "outputs": [
    {
     "data": {
      "image/png": "[encoded data removed]",
      "text/plain": [
       "<Figure size 3600x720 with 1 Axes>"
      ]
     },
     "metadata": {
      "needs_background": "light"
     },
     "output_type": "display_data"
    }
   ],
   "source": [
    "thePlotGADaten = wtk_groupby['inzidenzPro100000'].plot(kind=\"bar\",figsize=(50,10))\n",
    "#for x,y in zip('inzidenzPro100000','inzidenzPro100000'):\n",
    "\n",
    "    #label = \"{:.2f}\".format(y)\n",
    "#    label = y\n",
    "\n",
    "#    plt.annotate(label, # this is the text\n",
    "#                 (x,y), # this is the point to label\n",
    "#                 textcoords=\"offset points\", # how to position the text\n",
    "#                 xytext=(0,10), # distance from text to points (x,y)\n",
    "#                 ha='center') # horizontal alignment can be left, right or center\n",
    "#\n",
    "#plt.show()"
   ]
  },
  {
   "cell_type": "code",
   "execution_count": null,
   "metadata": {},
   "outputs": [],
   "source": []
  },
  {
   "cell_type": "code",
   "execution_count": null,
   "metadata": {},
   "outputs": [],
   "source": []
  },
  {
   "cell_type": "code",
   "execution_count": 398,
   "metadata": {
    "ExecuteTime": {
     "end_time": "2020-12-20T00:54:20.922881Z",
     "start_time": "2020-12-20T00:54:20.712676Z"
    }
   },
   "outputs": [
    {
     "data": {
      "image/png": "[encoded data removed]",
      "text/plain": [
       "<Figure size 432x288 with 1 Axes>"
      ]
     },
     "metadata": {
      "needs_background": "light"
     },
     "output_type": "display_data"
    }
   ],
   "source": [
    "plt.clf()\n",
    "\n",
    "# using some dummy data for this example\n",
    "xs = np.arange(0,10,1)\n",
    "ys = np.random.normal(loc=3, scale=0.4, size=10)\n",
    "\n",
    "plt.bar(xs,ys)\n",
    "\n",
    "# zip joins x and y coordinates in pairs\n",
    "for x,y in zip(xs,ys):\n",
    "\n",
    "    label = \"{:.2f}\".format(y)\n",
    "\n",
    "    plt.annotate(label, # this is the text\n",
    "                 (x,y), # this is the point to label\n",
    "                 textcoords=\"offset points\", # how to position the text\n",
    "                 xytext=(0,10), # distance from text to points (x,y)\n",
    "                 ha='center') # horizontal alignment can be left, right or center\n",
    "\n",
    "plt.show()"
   ]
  },
  {
   "cell_type": "code",
   "execution_count": null,
   "metadata": {},
   "outputs": [],
   "source": []
  },
  {
   "cell_type": "code",
   "execution_count": null,
   "metadata": {},
   "outputs": [],
   "source": []
  }
 ],
 "metadata": {
  "kernelspec": {
   "display_name": "Python 3.7.4 64-bit ('anaconda3': virtualenv)",
   "language": "python",
   "name": "python37464bitanaconda3virtualenv2278f5ece7264893a086549837fbbdd9"
  },
  "language_info": {
   "codemirror_mode": {
    "name": "ipython",
    "version": 3
   },
   "file_extension": ".py",
   "mimetype": "text/x-python",
   "name": "python",
   "nbconvert_exporter": "python",
   "pygments_lexer": "ipython3",
   "version": "3.7.4"
  },
  "toc": {
   "base_numbering": 1,
   "nav_menu": {},
   "number_sections": true,
   "sideBar": true,
   "skip_h1_title": false,
   "title_cell": "Table of Contents",
   "title_sidebar": "Contents",
   "toc_cell": false,
   "toc_position": {},
   "toc_section_display": true,
   "toc_window_display": false
  },
  "varInspector": {
   "cols": {
    "lenName": 16,
    "lenType": 16,
    "lenVar": 40
   },
   "kernels_config": {
    "python": {
     "delete_cmd_postfix": "",
     "delete_cmd_prefix": "del ",
     "library": "var_list.py",
     "varRefreshCmd": "print(var_dic_list())"
    },
    "r": {
     "delete_cmd_postfix": ") ",
     "delete_cmd_prefix": "rm(",
     "library": "var_list.r",
     "varRefreshCmd": "cat(var_dic_list()) "
    }
   },
   "types_to_exclude": [
    "module",
    "function",
    "builtin_function_or_method",
    "instance",
    "_Feature"
   ],
   "window_display": false
  }
 },
 "nbformat": 4,
 "nbformat_minor": 2
}
